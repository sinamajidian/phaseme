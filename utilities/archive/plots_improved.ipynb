{
 "cells": [
  {
   "cell_type": "code",
   "execution_count": 22,
   "metadata": {},
   "outputs": [
    {
     "data": {
      "text/plain": [
       "[1, 2, 3, 4, 5, 6, 7, 9, 10, 11, 12, 13, 14, 15, 16, 17, 18, 19, 20, 21, 22]"
      ]
     },
     "execution_count": 22,
     "metadata": {},
     "output_type": "execute_result"
    }
   ],
   "source": [
    "import numpy as np\n",
    "\n",
    "chr=list(range(1,23))\n",
    "chr.pop(7)\n",
    "chr\n"
   ]
  },
  {
   "cell_type": "code",
   "execution_count": 28,
   "metadata": {},
   "outputs": [
    {
     "name": "stdout",
     "output_type": "stream",
     "text": [
      "95.42857142857143\n",
      "21.476190476190474\n"
     ]
    }
   ],
   "source": [
    "\n",
    "file = open(\"/home/ssm/Documents/phaseme/results/improved_swer_smaller.txt\",'r')\n",
    "for line in file:\n",
    "    line_split=line.strip().split(',')\n",
    "improved_smaller=[int(i) for i in line_split if len(i)]\n",
    "print(np.mean(improved_smaller))\n",
    "\n",
    "file = open(\"/home/ssm/Documents/phaseme/results/improved_swer_greater.txt\",'r')\n",
    "for line in file:\n",
    "    line_split=line.strip().split(',')\n",
    "improved_greater=[int(i) for i in line_split if len(i)]\n",
    "\n",
    "\n",
    "print(np.mean(improved_greater))"
   ]
  },
  {
   "cell_type": "code",
   "execution_count": 29,
   "metadata": {},
   "outputs": [
    {
     "name": "stdout",
     "output_type": "stream",
     "text": [
      "93.9047619047619\n",
      "24.714285714285715\n"
     ]
    }
   ],
   "source": [
    "file = open(\"/home/ssm/Documents/phaseme/results/swer_smaller.txt\",'r')\n",
    "for line in file:\n",
    "    line_split=line.strip().split(',')\n",
    "raw_smaller=[int(i) for i in line_split if len(i)]\n",
    "print(np.mean(raw_smaller))\n",
    "\n",
    "file = open(\"/home/ssm/Documents/phaseme/results/swer_greater.txt\",'r')\n",
    "for line in file:\n",
    "    line_split=line.strip().split(',')\n",
    "raw_greater=[int(i) for i in line_split if len(i)]\n",
    "print(np.mean(raw_greater))"
   ]
  },
  {
   "cell_type": "code",
   "execution_count": 1,
   "metadata": {
    "scrolled": true
   },
   "outputs": [
    {
     "ename": "ModuleNotFoundError",
     "evalue": "No module named 'matplotlib'",
     "output_type": "error",
     "traceback": [
      "\u001b[0;31m---------------------------------------------------------------------------\u001b[0m",
      "\u001b[0;31mModuleNotFoundError\u001b[0m                       Traceback (most recent call last)",
      "\u001b[0;32m<ipython-input-1-6b22f6e65e19>\u001b[0m in \u001b[0;36m<module>\u001b[0;34m\u001b[0m\n\u001b[0;32m----> 1\u001b[0;31m \u001b[0;32mimport\u001b[0m \u001b[0mmatplotlib\u001b[0m\u001b[0;34m.\u001b[0m\u001b[0mpyplot\u001b[0m \u001b[0;32mas\u001b[0m \u001b[0mplt\u001b[0m\u001b[0;34m\u001b[0m\u001b[0;34m\u001b[0m\u001b[0m\n\u001b[0m\u001b[1;32m      2\u001b[0m \u001b[0;34m\u001b[0m\u001b[0m\n\u001b[1;32m      3\u001b[0m \u001b[0mplt\u001b[0m\u001b[0;34m.\u001b[0m\u001b[0mbar\u001b[0m\u001b[0;34m(\u001b[0m\u001b[0mraw_greater\u001b[0m\u001b[0;34m)\u001b[0m  \u001b[0;31m# arguments are passed to np.histogram\u001b[0m\u001b[0;34m\u001b[0m\u001b[0;34m\u001b[0m\u001b[0m\n\u001b[1;32m      4\u001b[0m \u001b[0;31m#plt.title('Histogram: length of switches')\u001b[0m\u001b[0;34m\u001b[0m\u001b[0;34m\u001b[0m\u001b[0;34m\u001b[0m\u001b[0m\n\u001b[1;32m      5\u001b[0m \u001b[0;31m#plt.show()\u001b[0m\u001b[0;34m\u001b[0m\u001b[0;34m\u001b[0m\u001b[0;34m\u001b[0m\u001b[0m\n",
      "\u001b[0;31mModuleNotFoundError\u001b[0m: No module named 'matplotlib'"
     ]
    }
   ],
   "source": [
    "import matplotlib.pyplot as plt\n",
    "\n",
    "plt.bar(raw_greater)  # arguments are passed to np.histogram\n",
    "#plt.title('Histogram: length of switches')\n",
    "#plt.show()\n",
    "# number of consecutive SNVs that are in miniorty in each shared block compared to grand truth"
   ]
  },
  {
   "cell_type": "code",
   "execution_count": null,
   "metadata": {},
   "outputs": [],
   "source": []
  }
 ],
 "metadata": {
  "kernelspec": {
   "display_name": "Python 3",
   "language": "python",
   "name": "python3"
  },
  "language_info": {
   "codemirror_mode": {
    "name": "ipython",
    "version": 3
   },
   "file_extension": ".py",
   "mimetype": "text/x-python",
   "name": "python",
   "nbconvert_exporter": "python",
   "pygments_lexer": "ipython3",
   "version": "3.7.4"
  }
 },
 "nbformat": 4,
 "nbformat_minor": 2
}
