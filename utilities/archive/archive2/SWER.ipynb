{
 "cells": [
  {
   "cell_type": "code",
   "execution_count": 1,
   "metadata": {},
   "outputs": [
    {
     "name": "stdout",
     "output_type": "stream",
     "text": [
      "['GT', 'GQ', 'DP', 'AF', 'GL', 'PS', 'AD', 'PL', 'BX', 'PQ', 'JQ'] 50415657 41093488 0|1 0|1\n"
     ]
    }
   ],
   "source": [
    "#### Parsing phased VCF file containing two sample for comparison\n",
    "\n",
    "\n",
    "vcf_file_address = 'jupyter_phaseme/ont/compare/22_ont_10x_improved_b.vcf' #22_ont_10x.vcf'   _improved_a _g\n",
    " \n",
    "vcf_file = open(vcf_file_address,'r'); \n",
    "\n",
    "#phased_vcf_dic={} # key: genomic_position, value: line of VCF file\n",
    "hap_blocks_sample1_dic={} # key: id of phase block (i.e. phase st), value= {genomic_position:allele_1}\n",
    "hap_blocks_sample2_dic={} \n",
    "\n",
    "#var_gpos_dic={} # key: variant index  value: list of genomic position  (with order the same as var_index)\n",
    "#var_indx=0 # 1-based index for variants in the phased vcf (it will be one for the first variant)\n",
    "header_lines_list=[]\n",
    "for line in vcf_file:\n",
    "    line_strip=line.strip() \n",
    "    if line_strip.startswith('#'):\n",
    "        header_lines_list.append(line_strip)\n",
    "        sample_names=line_strip.split('\\t')[9:11]# last line of header contains sample name\n",
    "    else:\n",
    "        #var_indx+=1\n",
    "          \n",
    "        # '22\\t51244182\\t.\\tG\\tA\\t.\\t.\\t.\\tGT:GQ:DP:AF:GL:PS\\t\n",
    "        #  0|1:127:.:.:-58.12751217387621,-8.336610948353968e-14,-12.716893473415803:50415657'\n",
    "        line_parts=line_strip.split('\\t') \n",
    "        #phased_vcf_dic[var_indx]=line_parts     \n",
    "        \n",
    "        gt_flags, sample1, sample2 = line_parts[8:11]\n",
    "        if \"|\" in sample1 and \"|\" in sample2: # both sample are phased for this variant\n",
    "            #chr_id=line_parts[0]\n",
    "            var_pos=int(line_parts[1])\n",
    "            #var_gpos_dic[var_indx]=var_pos\n",
    "            \n",
    "            sample1_split=sample1.split(\":\")\n",
    "            sample2_split=sample2.split(\":\")\n",
    "            \n",
    "            gt_flags_split=gt_flags.split(\":\")\n",
    "            \n",
    "            block_id1 = int(sample1_split[gt_flags.split(\":\").index(\"PS\")])\n",
    "            block_id2 = int(sample2_split[gt_flags.split(\":\").index(\"PS\")])\n",
    "            \n",
    "            allele_sample1=sample1_split[gt_flags.split(\":\").index(\"GT\")]\n",
    "            allele_sample2=sample2_split[gt_flags.split(\":\").index(\"GT\")]\n",
    "\n",
    "            if (allele_sample1 == '0|1' or allele_sample1 == '1|0') and (allele_sample2 == '0|1' or allele_sample2 == '1|0'):\n",
    "                if block_id1 in hap_blocks_sample1_dic:\n",
    "                    hap_blocks_sample1_dic[block_id1][var_pos]=allele_sample1 # append new variants to the existing phase block\n",
    "                else:\n",
    "                    hap_blocks_sample1_dic[block_id1]={var_pos:allele_sample1} # creat new phase block\n",
    "\n",
    "                if block_id2 in hap_blocks_sample2_dic:\n",
    "                    hap_blocks_sample2_dic[block_id2][var_pos]=allele_sample2 # append new variants to the existing phase block\n",
    "                else:\n",
    "                    hap_blocks_sample2_dic[block_id2]={var_pos:allele_sample2} # creat new phase block\n",
    "\n",
    "\n",
    "print(gt_flags_split,block_id1,block_id2,allele_sample1,allele_sample2)\n",
    "\n",
    "\n",
    "\n",
    "# hap_blocks_sample1_dic ont\n",
    "# hap_blocks_sample2_dic 10x (grand truth)\n"
   ]
  },
  {
   "cell_type": "code",
   "execution_count": 2,
   "metadata": {},
   "outputs": [
    {
     "name": "stdout",
     "output_type": "stream",
     "text": [
      "Number of blocks in sample: 21\n"
     ]
    }
   ],
   "source": [
    "print('Number of blocks in sample:',len(hap_blocks_sample1_dic))\n",
    "#print('Number of blocks in grand truth:',len(hap_blocks_sample2_dic))"
   ]
  },
  {
   "cell_type": "code",
   "execution_count": 3,
   "metadata": {},
   "outputs": [
    {
     "name": "stdout",
     "output_type": "stream",
     "text": [
      "16052419 548\n",
      "16847870 7\n",
      "16851489 75\n",
      "16938155 18\n",
      "16957017 9\n",
      "16960113 1854\n",
      "18712732 241\n",
      "18873806 1816\n",
      "20610824 1070\n",
      "21732452 2777\n",
      "24916182 3233\n",
      "27896908 12\n",
      "27904170 6054\n",
      "37400787 176\n",
      "37627246 991\n",
      "39054450 4099\n",
      "44814180 1174\n",
      "45706994 442\n",
      "46247222 1751\n",
      "47886663 2786\n",
      "50415657 815\n"
     ]
    }
   ],
   "source": [
    "for block_id in  hap_blocks_sample1_dic.keys():\n",
    "    print(block_id, len(hap_blocks_sample1_dic[block_id]))\n",
    "#     if len(hap_blocks_sample2_dic[block_id]) ==1:\n",
    "#         print(block_id)\n",
    "#         print(hap_blocks_sample2_dic[block_id])\n",
    "    "
   ]
  },
  {
   "cell_type": "code",
   "execution_count": 4,
   "metadata": {},
   "outputs": [
    {
     "name": "stdout",
     "output_type": "stream",
     "text": [
      "16\n"
     ]
    }
   ],
   "source": [
    "print(len(hap_blocks_sample2_dic))"
   ]
  },
  {
   "cell_type": "code",
   "execution_count": null,
   "metadata": {},
   "outputs": [],
   "source": []
  },
  {
   "cell_type": "code",
   "execution_count": 5,
   "metadata": {},
   "outputs": [],
   "source": [
    "#hap_block_sample2=hap_blocks_sample2_dic[16427606]\n",
    "\n",
    "parental_origin_blocks = {}\n",
    "\n",
    "\n",
    "for block_id_sample1, hap_block_sample1 in hap_blocks_sample1_dic.items():\n",
    "    \n",
    "    parental_origin_block ={}\n",
    "    \n",
    "\n",
    "    for block_id_sample2, hap_block_sample2 in hap_blocks_sample2_dic.items():\n",
    "        parental_origin_block_shared = []\n",
    "\n",
    "        var_pos_list = sorted(list(hap_block_sample1.keys()))\n",
    "        for var_i, var_pos in enumerate(var_pos_list):\n",
    "\n",
    "            allele_sample1 = hap_block_sample1[var_pos]\n",
    "            if var_pos in hap_block_sample2.keys():\n",
    "\n",
    "                allele_sample2 = hap_block_sample2[var_pos]\n",
    "                allele_sample2_revert = str(1-int(allele_sample2[0]))+'|'+str(1-int(allele_sample2[2]))\n",
    "\n",
    "\n",
    "                if allele_sample1 == allele_sample2:\n",
    "                    parental_origin = 1 #zero_one  # considering the sample1 block constant, for each grand truth, we need to change this value\n",
    "\n",
    "                if allele_sample1 == allele_sample2_revert :\n",
    "                    parental_origin = 0 #1- zero_one\n",
    "\n",
    "\n",
    "                parental_origin_block_shared.append(parental_origin)\n",
    "        if len(parental_origin_block_shared)>= 2:\n",
    "            parental_origin_block[block_id_sample2]=parental_origin_block_shared\n",
    "\n",
    "    \n",
    "    parental_origin_blocks[block_id_sample1] = parental_origin_block\n",
    "    \n",
    "    \n",
    "    \n",
    "    \n",
    "    "
   ]
  },
  {
   "cell_type": "code",
   "execution_count": 6,
   "metadata": {},
   "outputs": [],
   "source": [
    "# import numpy as np\n",
    "# for block_id_sample1, parental_origin_block in parental_origin_blocks.items(): \n",
    "    \n",
    "#     if len(parental_origin_block)>=2: # we need to make sure that the new list starts differntly than previous\n",
    "        \n",
    "#         for i_block_shared in range(len(parental_origin_block)):\n",
    "#             parental_origin_block_shared = np.array(parental_origin_block[i_block_shared])\n",
    "#             if i_block_shared >=1:\n",
    "#                     pass # we may change \n",
    "#             #print(parental_origin_block_shared[0])\n",
    "#     print(block_id_sample1)\n"
   ]
  },
  {
   "cell_type": "code",
   "execution_count": null,
   "metadata": {},
   "outputs": [],
   "source": []
  },
  {
   "cell_type": "code",
   "execution_count": null,
   "metadata": {},
   "outputs": [],
   "source": []
  },
  {
   "cell_type": "code",
   "execution_count": 7,
   "metadata": {},
   "outputs": [],
   "source": [
    "\n",
    "# import numpy as np\n",
    "# # switch_all_blocks = {}\n",
    "# # switch_short_blocks = {}\n",
    "# switch_all = 0\n",
    "# switch_short = 0\n",
    "\n",
    "# for block_id_sample1, parental_origin_block in parental_origin_blocks.items(): \n",
    "    \n",
    "\n",
    "\n",
    "    \n",
    "#     for i_block_shared in range(len(parental_origin_block)):\n",
    "#         parental_origin_block_shared_np = np.array(parental_origin_block[i_block_shared])\n",
    "\n",
    "#         for i in range(len(parental_origin_block_shared_np)):\n",
    "            \n",
    "#             if i>=1:\n",
    "#                 current = parental_origin_block_shared_np[i]\n",
    "#                 pre_1  = parental_origin_block_shared_np[i-1]\n",
    "                \n",
    "#                 if current != pre_1: switch_all += 1\n",
    "            \n",
    "            \n",
    "#             for length_perfect_part in range(2,21):\n",
    "#                 if i >= length_perfect_part:\n",
    "#                     prev_i = parental_origin_block_shared_np[i-(length_perfect_part+1)]\n",
    "\n",
    "#                     origin_prev  = [parental_origin_block_shared_np[i] for i in range(i-length_perfect_part,i)]\n",
    "\n",
    "#                     if (current != pre_1) and (current == prev_i) and  sum(origin_prev) == length_perfect_part*(1-current):\n",
    "#                         switch_short += 1\n",
    "\n"
   ]
  },
  {
   "cell_type": "code",
   "execution_count": 8,
   "metadata": {},
   "outputs": [],
   "source": [
    "# print(switch_all, switch_short)\n",
    "# length_perfect_part"
   ]
  },
  {
   "cell_type": "code",
   "execution_count": 9,
   "metadata": {},
   "outputs": [],
   "source": [
    "\n",
    "# ONT chr 19\n",
    "#         long short\n",
    "# raw:       25\n",
    "# improved:  22\n",
    "\n",
    "    \n",
    "    \n",
    "# ONT chr 22\n",
    "#         long short\n",
    "# raw:       79\n",
    "# improved:  76\n",
    "    \n",
    "    \n",
    "# 19_ont_10x_improved_f.vcf    \n",
    "# 22_ont_10x_improved_g.vcf\n"
   ]
  },
  {
   "cell_type": "code",
   "execution_count": 10,
   "metadata": {},
   "outputs": [],
   "source": [
    "# for block_id_sample1, parental_origin_block in parental_origin_blocks.items(): \n",
    "#         print(len(parental_origin_block))"
   ]
  },
  {
   "cell_type": "code",
   "execution_count": 11,
   "metadata": {},
   "outputs": [],
   "source": [
    "# length_list= []\n",
    "# for block_id_sample1, parental_origin_block in parental_origin_blocks.items(): \n",
    "#     for parental_origin_block_shared in parental_origin_block:\n",
    "#         length_list.append(len(parental_origin_block_shared))\n",
    "        \n",
    "# print(len(length_list))"
   ]
  },
  {
   "cell_type": "code",
   "execution_count": null,
   "metadata": {},
   "outputs": [],
   "source": [
    "\n",
    "        \n",
    "        \n",
    "\n"
   ]
  },
  {
   "cell_type": "code",
   "execution_count": null,
   "metadata": {},
   "outputs": [],
   "source": []
  },
  {
   "cell_type": "code",
   "execution_count": 12,
   "metadata": {},
   "outputs": [],
   "source": [
    "\n",
    "import numpy as np\n",
    "\n",
    "# switch_all = 0\n",
    "# switch_short = 0\n",
    "\n",
    "list_all_consecutive= []\n",
    "list_all_blocks ={}\n",
    "for block_id_sample1, parental_origin_block in parental_origin_blocks.items(): \n",
    "    \n",
    "    list_all_block ={}\n",
    "    \n",
    "    #for i_block_shared in range(len(parental_origin_block)):\n",
    "        \n",
    "        #parental_origin_block_shared = parental_origin_block[i_block_shared] # shared between sample (ont) and true \n",
    "    for block_id_sample2, parental_origin_block_shared in parental_origin_block.items(): \n",
    "        \n",
    "        new_list=[0]\n",
    "        \n",
    "        for i in range(len(parental_origin_block_shared)):\n",
    "            \n",
    "            if i >=1:\n",
    "                if parental_origin_block_shared[i] != parental_origin_block_shared[i-1]:\n",
    "                    new_list.append(i)\n",
    "        new_list.append(len(parental_origin_block_shared))\n",
    "        list_all_consecutive.append(new_list)\n",
    "        list_all_block[block_id_sample2]=new_list\n",
    "    list_all_blocks[block_id_sample1]=list_all_block\n"
   ]
  },
  {
   "cell_type": "code",
   "execution_count": null,
   "metadata": {},
   "outputs": [],
   "source": []
  },
  {
   "cell_type": "code",
   "execution_count": 13,
   "metadata": {},
   "outputs": [],
   "source": [
    "\n",
    "list_length_blocks ={}\n",
    "for block_id_sample1, list_all_block in list_all_blocks.items(): \n",
    "\n",
    "    list_length_block = {}\n",
    "\n",
    "#     list_length_all_consecutive = []\n",
    "#     list_length_all_consecutive_except_first = []\n",
    "\n",
    "    #for list1 in list_all_block:\n",
    "    for block_id_sample2, list1 in list_all_block.items(): \n",
    "\n",
    "        list_length = []\n",
    "        for i in range(1,len(list1)):\n",
    "            length1= list1[i]-list1[i-1]\n",
    "            list_length.append(length1)            \n",
    "#             list_length_all_consecutive.append(length1)\n",
    "#             if i!=1: list_length_all_consecutive_except_first.append(length1)\n",
    "#         list_length_all.append(list_length)\n",
    "        list_length_block[block_id_sample2]=list_length\n",
    "    list_length_blocks[block_id_sample1]=list_length_block\n",
    "  "
   ]
  },
  {
   "cell_type": "code",
   "execution_count": 14,
   "metadata": {},
   "outputs": [],
   "source": [
    "# list_all_blocks[20610824]"
   ]
  },
  {
   "cell_type": "code",
   "execution_count": 15,
   "metadata": {},
   "outputs": [],
   "source": [
    "# list_length_blocks[20610824]"
   ]
  },
  {
   "cell_type": "code",
   "execution_count": 16,
   "metadata": {},
   "outputs": [],
   "source": [
    "# len(list_length_blocks[20610824])"
   ]
  },
  {
   "cell_type": "code",
   "execution_count": 17,
   "metadata": {},
   "outputs": [
    {
     "name": "stdout",
     "output_type": "stream",
     "text": [
      "dict_keys([16052419, 16847870, 16851489, 16938155, 16957017, 16960113, 18712732, 18873806, 20610824, 21732452, 24916182, 27896908, 27904170, 37400787, 37627246, 39054450, 44814180, 45706994, 46247222, 47886663, 50415657])\n",
      "dict_keys([16000159, 16123104, 16427606, 16797963, 18838130, 20326973, 20560974, 21889397, 21902136, 29079094, 29126376, 31076238, 32456138, 32726856, 35835260, 41093488])\n"
     ]
    }
   ],
   "source": [
    "print(hap_blocks_sample1_dic.keys())\n",
    "print(hap_blocks_sample2_dic.keys())"
   ]
  },
  {
   "cell_type": "code",
   "execution_count": 18,
   "metadata": {},
   "outputs": [
    {
     "name": "stdout",
     "output_type": "stream",
     "text": [
      "16000159 50\n",
      "16123104 285\n",
      "16427606 213\n",
      "16797963 2110\n",
      "18838130 1862\n",
      "20326973 48\n",
      "20560974 1106\n",
      "21889397 7\n",
      "21902136 6546\n",
      "29079094 1\n",
      "29126376 1466\n",
      "31076238 707\n",
      "32456138 8\n",
      "32726856 2003\n",
      "35835260 3730\n",
      "41093488 9806\n"
     ]
    }
   ],
   "source": [
    "for block_id in  hap_blocks_sample2_dic.keys():\n",
    "    print(block_id, len(hap_blocks_sample2_dic[block_id]))"
   ]
  },
  {
   "cell_type": "code",
   "execution_count": 19,
   "metadata": {},
   "outputs": [],
   "source": [
    "\n",
    "\n",
    "\n",
    "list_length_all = []\n",
    "\n",
    "list_length_all_consecutive = []\n",
    "list_length_all_consecutive_except_first = []\n",
    "\n",
    "for list1 in list_all_consecutive:\n",
    "\n",
    "    list_length = []\n",
    "    for i in range(1,len(list1)):\n",
    "        length1= list1[i]-list1[i-1]\n",
    "        list_length.append(length1)            \n",
    "        list_length_all_consecutive.append(length1)\n",
    "        if i!=1: list_length_all_consecutive_except_first.append(length1)\n",
    "    list_length_all.append(list_length)\n",
    "            \n",
    "        \n",
    "        \n",
    "        \n",
    "    "
   ]
  },
  {
   "cell_type": "code",
   "execution_count": 20,
   "metadata": {},
   "outputs": [
    {
     "data": {
      "text/plain": [
       "183"
      ]
     },
     "execution_count": 20,
     "metadata": {},
     "output_type": "execute_result"
    }
   ],
   "source": [
    "len(list_length_all_consecutive_except_first)"
   ]
  },
  {
   "cell_type": "code",
   "execution_count": 21,
   "metadata": {},
   "outputs": [
    {
     "name": "stdout",
     "output_type": "stream",
     "text": [
      "150 33\n"
     ]
    }
   ],
   "source": [
    "lower_than_21=[length1<21 for length1 in list_length_all_consecutive_except_first]\n",
    "greater_than_20=[length1>20 for length1 in list_length_all_consecutive_except_first]\n",
    "\n",
    "print(sum(lower_than_21),sum(greater_than_20))\n",
    "\n",
    "\n",
    "\n"
   ]
  },
  {
   "cell_type": "code",
   "execution_count": null,
   "metadata": {},
   "outputs": [],
   "source": []
  },
  {
   "cell_type": "code",
   "execution_count": null,
   "metadata": {},
   "outputs": [],
   "source": []
  },
  {
   "cell_type": "code",
   "execution_count": 22,
   "metadata": {},
   "outputs": [],
   "source": [
    "# import matplotlib.pyplot as plt\n",
    "\n",
    "# plt.hist(list_length_all_consecutive)  # arguments are passed to np.histogram\n",
    "# plt.title('histogram: length of perfect consecutive SNVs')\n",
    "# plt.show()\n"
   ]
  },
  {
   "cell_type": "code",
   "execution_count": null,
   "metadata": {},
   "outputs": [],
   "source": []
  },
  {
   "cell_type": "code",
   "execution_count": null,
   "metadata": {},
   "outputs": [],
   "source": []
  }
 ],
 "metadata": {
  "kernelspec": {
   "display_name": "Python 3",
   "language": "python",
   "name": "python3"
  },
  "language_info": {
   "codemirror_mode": {
    "name": "ipython",
    "version": 3
   },
   "file_extension": ".py",
   "mimetype": "text/x-python",
   "name": "python",
   "nbconvert_exporter": "python",
   "pygments_lexer": "ipython3",
   "version": "3.7.4"
  }
 },
 "nbformat": 4,
 "nbformat_minor": 2
}
