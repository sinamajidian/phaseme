{
 "cells": [
  {
   "cell_type": "code",
   "execution_count": 1,
   "metadata": {},
   "outputs": [],
   "source": [
    "#### Parsing phased VCF file containing two sample for comparison\n",
    "\n",
    "\n",
    "vcf_file_address =  \"/Volumes/uni/myjupyter/jupyter_phaseme/comparison/ont_patmat/improved/22_ont_imp_patmat.vcf\"\n",
    "#\"/Volumes/uni/myjupyter/jupyter_phaseme/comparison/ont_patmat/22_ont_patmat.vcf\"\n",
    "#\"/Volumes/uni/myjupyter/jupyter_phaseme/comparison/10x_patmat/22_10x_patmat.vcf\"\n",
    "# \"/Volumes/uni/myjupyter/jupyter_phaseme/comparison/10x_true/22_10x_true.vcf\"\n",
    "\n",
    "#  '/Volumes/uni/myjupyter/jupyter_phaseme/ont/22_ont_improved_98.vcf'\n",
    "#'/Volumes/uni/myjupyter/jupyter_phaseme/comparison/ont_true/22_ont_true.vcf'\n",
    "#\"/Volumes/uni/myjupyter/jupyter_phaseme/comparison/10x_true/22_10x_true.vcf\"\n",
    "\n",
    "#\n",
    "\n",
    " \n",
    "vcf_file = open(vcf_file_address,'r'); \n",
    "\n",
    "hap_blocks_sample1_dic={} # key: id of phase block (i.e. phase st), value= {genomic_position:allele_1}\n",
    "hap_blocks_sample2_dic={} \n",
    "\n",
    "header_lines_list=[]\n",
    "for line in vcf_file:\n",
    "    line_strip=line.strip() \n",
    "    if line_strip.startswith('#'):\n",
    "        header_lines_list.append(line_strip)\n",
    "        sample_names=line_strip.split('\\t')[9:11]# last line of header contains sample name\n",
    "    else:\n",
    "        #var_indx+=1\n",
    "          \n",
    "        # '22\\t51244182\\t.\\tG\\tA\\t.\\t.\\t.\\tGT:GQ:DP:AF:GL:PS\\t\n",
    "        #  0|1:127:.:.:-58.12751217387621,-8.336610948353968e-14,-12.716893473415803:50415657'\n",
    "        line_parts=line_strip.split('\\t') \n",
    "        \n",
    "        gt_flags, sample1, sample2 = line_parts[8:11]\n",
    "        if \"|\" in sample1 and \"|\" in sample2: # both sample are phased for this variant\n",
    "\n",
    "            var_pos=int(line_parts[1])\n",
    "            \n",
    "            sample1_split=sample1.split(\":\")\n",
    "            sample2_split=sample2.split(\":\")\n",
    "            \n",
    "            gt_flags_split=gt_flags.split(\":\")\n",
    "            \n",
    "            block_id1 = sample1_split[gt_flags.split(\":\").index(\"PS\")] #int(\n",
    "            block_id2 = sample2_split[gt_flags.split(\":\").index(\"PS\")] #int(\n",
    "            \n",
    "            allele_sample1=sample1_split[gt_flags.split(\":\").index(\"GT\")]\n",
    "            allele_sample2=sample2_split[gt_flags.split(\":\").index(\"GT\")]\n",
    "\n",
    "            if (allele_sample1 == '0|1' or allele_sample1 == '1|0') and (allele_sample2 == '0|1' or allele_sample2 == '1|0'):\n",
    "                if block_id1 in hap_blocks_sample1_dic:\n",
    "                    hap_blocks_sample1_dic[block_id1][var_pos]=allele_sample1 # append new variants to the existing phase block\n",
    "                else:\n",
    "                    hap_blocks_sample1_dic[block_id1]={var_pos:allele_sample1} # creat new phase block\n",
    "\n",
    "                if block_id2 in hap_blocks_sample2_dic:\n",
    "                    hap_blocks_sample2_dic[block_id2][var_pos]=allele_sample2 # append new variants to the existing phase block\n",
    "                else:\n",
    "                    hap_blocks_sample2_dic[block_id2]={var_pos:allele_sample2} # creat new phase block\n",
    "\n",
    "\n",
    "#print(gt_flags_split,block_id1,block_id2,allele_sample1,allele_sample2)\n",
    "\n",
    "\n",
    "\n",
    "# hap_blocks_sample1_dic ont\n",
    "# hap_blocks_sample2_dic 10x (grand truth)\n"
   ]
  },
  {
   "cell_type": "code",
   "execution_count": 2,
   "metadata": {},
   "outputs": [
    {
     "name": "stdout",
     "output_type": "stream",
     "text": [
      "Number of blocks in sample: 15\n"
     ]
    }
   ],
   "source": [
    "print('Number of blocks in sample:',len(hap_blocks_sample1_dic))\n",
    "#print('Number of blocks in grand truth:',len(hap_blocks_sample2_dic))"
   ]
  },
  {
   "cell_type": "code",
   "execution_count": 3,
   "metadata": {},
   "outputs": [
    {
     "name": "stdout",
     "output_type": "stream",
     "text": [
      "16960113 898\n",
      "18873806 1141\n",
      "20610824 328\n",
      "21732452 959\n",
      "24916182 1874\n",
      "27896908 9\n",
      "27904170 4486\n",
      "37400787 174\n",
      "37627246 476\n",
      "39054450 2851\n",
      "44814180 918\n",
      "45706994 391\n",
      "46247222 938\n",
      "47886663 1907\n",
      "50415657 376\n"
     ]
    }
   ],
   "source": [
    "for block_id in  hap_blocks_sample1_dic.keys():\n",
    "    print(block_id, len(hap_blocks_sample1_dic[block_id]))\n"
   ]
  },
  {
   "cell_type": "code",
   "execution_count": null,
   "metadata": {},
   "outputs": [],
   "source": []
  },
  {
   "cell_type": "code",
   "execution_count": null,
   "metadata": {},
   "outputs": [],
   "source": []
  },
  {
   "cell_type": "code",
   "execution_count": 4,
   "metadata": {},
   "outputs": [],
   "source": [
    "\n",
    "parental_origin_blocks = {}\n",
    "\n",
    "\n",
    "for block_id_sample1, hap_block_sample1 in hap_blocks_sample1_dic.items():\n",
    "    \n",
    "    parental_origin_block ={}\n",
    "    \n",
    "\n",
    "    for block_id_sample2, hap_block_sample2 in hap_blocks_sample2_dic.items():\n",
    "        parental_origin_block_shared = []\n",
    "\n",
    "        var_pos_list = sorted(list(hap_block_sample1.keys()))\n",
    "        for var_i, var_pos in enumerate(var_pos_list):\n",
    "\n",
    "            allele_sample1 = hap_block_sample1[var_pos]\n",
    "            if var_pos in hap_block_sample2.keys():\n",
    "\n",
    "                allele_sample2 = hap_block_sample2[var_pos]\n",
    "                allele_sample2_revert = str(1-int(allele_sample2[0]))+'|'+str(1-int(allele_sample2[2]))\n",
    "\n",
    "\n",
    "                if allele_sample1 == allele_sample2:\n",
    "                    parental_origin = 1 #zero_one  # considering the sample1 block constant, for each grand truth, we need to change this value\n",
    "\n",
    "                if allele_sample1 == allele_sample2_revert :\n",
    "                    parental_origin = 0 #1- zero_one\n",
    "\n",
    "\n",
    "                parental_origin_block_shared.append(parental_origin)\n",
    "        if len(parental_origin_block_shared)>= 2:\n",
    "            parental_origin_block[block_id_sample2]=parental_origin_block_shared\n",
    "\n",
    "    if len(parental_origin_block)> 0:\n",
    "        parental_origin_blocks[block_id_sample1] = parental_origin_block\n",
    "    \n",
    "    \n",
    "    "
   ]
  },
  {
   "cell_type": "code",
   "execution_count": 5,
   "metadata": {},
   "outputs": [
    {
     "name": "stdout",
     "output_type": "stream",
     "text": [
      "16960113 1\n",
      "18873806 1\n",
      "20610824 1\n",
      "21732452 1\n",
      "24916182 1\n",
      "27896908 1\n",
      "27904170 1\n",
      "37400787 1\n",
      "37627246 1\n",
      "39054450 1\n",
      "44814180 1\n",
      "45706994 1\n",
      "46247222 1\n",
      "47886663 1\n",
      "50415657 1\n"
     ]
    }
   ],
   "source": [
    "for block_id in  parental_origin_blocks.keys():\n",
    "    print(block_id, len(parental_origin_blocks[block_id])) # numebr of shared block for each block in sample\n",
    "\n",
    "    "
   ]
  },
  {
   "cell_type": "code",
   "execution_count": null,
   "metadata": {},
   "outputs": [],
   "source": []
  },
  {
   "cell_type": "code",
   "execution_count": null,
   "metadata": {},
   "outputs": [],
   "source": []
  },
  {
   "cell_type": "code",
   "execution_count": 6,
   "metadata": {},
   "outputs": [],
   "source": [
    "\n",
    "list_all_consecutive= []\n",
    "list_all_blocks ={}\n",
    "for block_id_sample1, parental_origin_block in parental_origin_blocks.items(): \n",
    "    \n",
    "    list_all_block ={}        \n",
    "    for block_id_sample2, parental_origin_block_shared in parental_origin_block.items(): \n",
    "        \n",
    "        new_list=[0]\n",
    "        \n",
    "        for i in range(len(parental_origin_block_shared)):\n",
    "            \n",
    "            if i >=1:\n",
    "                if parental_origin_block_shared[i] != parental_origin_block_shared[i-1]:\n",
    "                    new_list.append(i)  #  consists of the starting position of a var that its parental origin (comapred to true) is different than previous ar\n",
    "        new_list.append(len(parental_origin_block_shared))\n",
    "        list_all_consecutive.append(new_list)\n",
    "        list_all_block[block_id_sample2]=new_list\n",
    "    list_all_blocks[block_id_sample1]=list_all_block\n"
   ]
  },
  {
   "cell_type": "code",
   "execution_count": null,
   "metadata": {},
   "outputs": [],
   "source": []
  },
  {
   "cell_type": "code",
   "execution_count": 7,
   "metadata": {},
   "outputs": [],
   "source": [
    "\n",
    "# list_length_blocks ={}\n",
    "# for block_id_sample1, list_all_block in list_all_blocks.items(): \n",
    "\n",
    "#     list_length_block = {}\n",
    "\n",
    "#     for block_id_sample2, list1 in list_all_block.items(): \n",
    "\n",
    "#         list_length = []\n",
    "#         for i in range(1,len(list1)):\n",
    "#             length1= list1[i]-list1[i-1]\n",
    "#             list_length.append(length1)            \n",
    "            \n",
    "#         list_length_block[block_id_sample2]=list_length\n",
    "#     list_length_blocks[block_id_sample1]=list_length_block\n",
    "  "
   ]
  },
  {
   "cell_type": "code",
   "execution_count": null,
   "metadata": {},
   "outputs": [],
   "source": []
  },
  {
   "cell_type": "code",
   "execution_count": null,
   "metadata": {},
   "outputs": [],
   "source": []
  },
  {
   "cell_type": "code",
   "execution_count": null,
   "metadata": {},
   "outputs": [],
   "source": []
  },
  {
   "cell_type": "code",
   "execution_count": 8,
   "metadata": {},
   "outputs": [
    {
     "name": "stdout",
     "output_type": "stream",
     "text": [
      "dict_keys(['16960113', '18873806', '20610824', '21732452', '24916182', '27896908', '27904170', '37400787', '37627246', '39054450', '44814180', '45706994', '46247222', '47886663', '50415657'])\n",
      "dict_keys(['PATMAT'])\n"
     ]
    }
   ],
   "source": [
    "print(hap_blocks_sample1_dic.keys())\n",
    "print(hap_blocks_sample2_dic.keys())"
   ]
  },
  {
   "cell_type": "code",
   "execution_count": 9,
   "metadata": {},
   "outputs": [
    {
     "name": "stdout",
     "output_type": "stream",
     "text": [
      "PATMAT 17726\n"
     ]
    }
   ],
   "source": [
    "for block_id in  hap_blocks_sample2_dic.keys():\n",
    "    print(block_id, len(hap_blocks_sample2_dic[block_id]))"
   ]
  },
  {
   "cell_type": "code",
   "execution_count": 10,
   "metadata": {},
   "outputs": [],
   "source": [
    "\n",
    "\n",
    "list_length_minor = [] # flipped or same \n",
    "\n",
    "for list1 in list_all_consecutive: #  list1  consists of the starting position of a var that its parental origin (comapred to true) is different than previous ar\n",
    "\n",
    "    list_length = []\n",
    "    for i in range(1,len(list1)):\n",
    "        length1= list1[i]-list1[i-1]\n",
    "        list_length.append(length1)            \n",
    "        #list_length_all_consecutive.append(length1)\n",
    "        #if i!=1: list_length_all_consecutive_except_first.append(length1)\n",
    "    \n",
    "\n",
    "    odd_sum = sum(list_length[0::2])\n",
    "    even_sum = sum(list_length[1::2])\n",
    "    min_sum= min([odd_sum, even_sum] )\n",
    "    val = [odd_sum, even_sum].index(min_sum)\n",
    "    length_minor=list_length[val::2]\n",
    "    \n",
    "    list_length_minor +=length_minor\n",
    "\n",
    "        \n",
    "\n",
    "         \n",
    "        \n",
    "        \n",
    "        \n",
    "    "
   ]
  },
  {
   "cell_type": "code",
   "execution_count": 11,
   "metadata": {},
   "outputs": [
    {
     "data": {
      "text/plain": [
       "55"
      ]
     },
     "execution_count": 11,
     "metadata": {},
     "output_type": "execute_result"
    }
   ],
   "source": [
    "len(list_length_minor)"
   ]
  },
  {
   "cell_type": "code",
   "execution_count": null,
   "metadata": {},
   "outputs": [],
   "source": []
  },
  {
   "cell_type": "code",
   "execution_count": null,
   "metadata": {},
   "outputs": [],
   "source": []
  },
  {
   "cell_type": "code",
   "execution_count": 12,
   "metadata": {},
   "outputs": [
    {
     "name": "stdout",
     "output_type": "stream",
     "text": [
      "43 12\n"
     ]
    }
   ],
   "source": [
    "import numpy as np\n",
    "\n",
    "list_length_minor= np.array(list_length_minor)\n",
    "\n",
    "lower_than_21=[length1<21 for length1 in list_length_minor]\n",
    "greater_than_20=[length1>20 for length1 in list_length_minor]\n",
    "\n",
    "print(sum(lower_than_21),sum(greater_than_20))\n"
   ]
  },
  {
   "cell_type": "code",
   "execution_count": null,
   "metadata": {},
   "outputs": [],
   "source": []
  },
  {
   "cell_type": "code",
   "execution_count": null,
   "metadata": {},
   "outputs": [],
   "source": []
  },
  {
   "cell_type": "code",
   "execution_count": 13,
   "metadata": {},
   "outputs": [
    {
     "data": {
      "text/plain": [
       "array([170,  80, 137,  76, 130, 202,  76, 492,  24,  68, 624,  24])"
      ]
     },
     "execution_count": 13,
     "metadata": {},
     "output_type": "execute_result"
    }
   ],
   "source": [
    "list_length_minor[greater_than_20]"
   ]
  },
  {
   "cell_type": "code",
   "execution_count": null,
   "metadata": {},
   "outputs": [],
   "source": []
  },
  {
   "cell_type": "code",
   "execution_count": null,
   "metadata": {},
   "outputs": [],
   "source": []
  },
  {
   "cell_type": "code",
   "execution_count": 15,
   "metadata": {},
   "outputs": [
    {
     "data": {
      "image/png": "[encoded data removed]",
      "text/plain": [
       "<Figure size 432x288 with 1 Axes>"
      ]
     },
     "metadata": {
      "needs_background": "light"
     },
     "output_type": "display_data"
    }
   ],
   "source": [
    "import matplotlib.pyplot as plt\n",
    "\n",
    "plt.hist(list_length_minor)  # arguments are passed to np.histogram\n",
    "plt.title('Histogram: length of switches')\n",
    "plt.show()\n",
    "# number of consecutive SNVs that are in miniorty in each shared block compared to grand truth"
   ]
  },
  {
   "cell_type": "code",
   "execution_count": null,
   "metadata": {},
   "outputs": [],
   "source": []
  },
  {
   "cell_type": "code",
   "execution_count": null,
   "metadata": {},
   "outputs": [],
   "source": []
  },
  {
   "cell_type": "code",
   "execution_count": null,
   "metadata": {},
   "outputs": [],
   "source": []
  },
  {
   "cell_type": "code",
   "execution_count": null,
   "metadata": {},
   "outputs": [],
   "source": []
  }
 ],
 "metadata": {
  "kernelspec": {
   "display_name": "Python 3",
   "language": "python",
   "name": "python3"
  },
  "language_info": {
   "codemirror_mode": {
    "name": "ipython",
    "version": 3
   },
   "file_extension": ".py",
   "mimetype": "text/x-python",
   "name": "python",
   "nbconvert_exporter": "python",
   "pygments_lexer": "ipython3",
   "version": "3.7.4"
  }
 },
 "nbformat": 4,
 "nbformat_minor": 2
}
