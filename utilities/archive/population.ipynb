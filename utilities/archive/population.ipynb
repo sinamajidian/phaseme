{
 "cells": [
  {
   "cell_type": "code",
   "execution_count": 1,
   "metadata": {},
   "outputs": [],
   "source": [
    "\n",
    " #!/usr/bin/env python3\n",
    "\n",
    "from sys import argv\n",
    "import subprocess\n",
    "import random\n",
    "\n",
    "# credit \n",
    "#https://github.com/vibansal/IntegratedPhasing/blob/master/samplehaps.py\n",
    "#https://github.com/vibansal/IntegratedPhasing/blob/master/encodereads.py\n",
    "\n",
    "\n",
    "\n",
    "\n",
    "\n",
    "def run_shapeit_graph(chr_vcf, data_1000G_address, chrom): # run per chromosom\n",
    "\n",
    "    subprocess.call(\"mkdir files_\"+str(chrom), shell=True)\t\n",
    "\n",
    "    shapeit_check= SHAPEIT+\" -check --input-vcf \"+chr_vcf+\" -R \"+data_1000G_address+\"1000GP_Phase3_chr\"+str(chrom)+\".hap.gz \"+data_1000G_address+\"1000GP_Phase3_chr\"+str(chrom)+\".legend.gz  \"+data_1000G_address+\"1000GP_Phase3.sample --output-log files_\"+str(chrom)+\"/shapeit_check >> files_\"+str(chrom)+\"/samples.log\"\n",
    "\n",
    "    subprocess.call(shapeit_check, shell=True)\n",
    "\n",
    "    shapeit_generate_graph= SHAPEIT+\" --input-vcf  \"+chr_vcf+\" -R \"+data_1000G_address+\"1000GP_Phase3_chr\"+str(chrom)+\".hap.gz \"+data_1000G_address+\"1000GP_Phase3_chr\"+str(chrom)+\".legend.gz \"+data_1000G_address+\"1000GP_Phase3.sample  -M \"+data_1000G_address+\"genetic_map_chr\"+str(chrom)+\"_combined_b37.txt  --output-log files_\"+str(chrom)+\"/shapeit_graph --output-graph \"+chr_vcf[:-4]+\".graph --exclude-snp  files_\"+str(chrom)+\"/shapeit_check.snp.strand.exclude >> files_\"+str(chrom)+\"/samples.log\"\n",
    "\n",
    "    subprocess.call(shapeit_generate_graph, shell=True)\n",
    "\n",
    "    return 1\n",
    "\n",
    "\n",
    "\n",
    "\n",
    "\n",
    "def read_haplotype_sample(haplotype_sample_address):\n",
    "\n",
    "    sample_file = open(haplotype_sample_address,'r')\n",
    "\n",
    "    var_pos_list = []\t\t\t\t # genomic position of variants\n",
    "    haplotype1 = []\t\t\t\t # hetrozygous variant only\n",
    "\n",
    "    for line in sample_file: \n",
    "\n",
    "        line_splitted = line.strip().split(); \n",
    "\n",
    "        chrom = line_splitted[0]\n",
    "        var_pos = line_splitted[2]\n",
    "\n",
    "        allele1 = line_splitted[5]\n",
    "        allele2 = line_splitted[6]\n",
    "\n",
    "        if allele1 != allele2:\n",
    "            haplotype1.append(allele1)\n",
    "            var_pos_list.append(var_pos)\n",
    "\n",
    "    return var_pos_list, haplotype1\n",
    "\n",
    "\n",
    "def pairwise(haplotype1_samples, nsamples, i, j):\n",
    "\n",
    "    identical_phasing = 0\n",
    "    opposite_phasing = 0\n",
    "\n",
    "    for sample_i in range(nsamples):\n",
    "\n",
    "        if haplotype1_samples[sample_i][i] == '0' and haplotype1_samples[sample_i][j] == '0': identical_phasing +=1\n",
    "        elif haplotype1_samples[sample_i][i] == '1' and haplotype1_samples[sample_i][j] == '1': identical_phasing +=1\n",
    "\n",
    "        elif haplotype1_samples[sample_i][i] == '0' and haplotype1_samples[sample_i][j] == '1': opposite_phasing +=1 \n",
    "        elif haplotype1_samples[sample_i][i] == '1' and haplotype1_samples[sample_i][j] == '0': opposite_phasing +=1 \n",
    "\n",
    "    return identical_phasing, opposite_phasing\n",
    "\n",
    "\n",
    "\n",
    "def extract_pairs(haplotype1_samples):\n",
    "\n",
    "    num_samples =  len(haplotype1_samples)\n",
    "    num_variants = len(haplotype1_samples[0])\n",
    "\n",
    "    pairs =[];\n",
    "\n",
    "    for i in range(num_variants):\n",
    "\n",
    "        for j in range(i+1, min(num_variants, i+NEIGHBOURS)):\n",
    "\n",
    "            identical_phasing, opposite_phasing= pairwise(haplotype1_samples, num_samples, i, j)\n",
    "\n",
    "            f = float(identical_phasing+0.5)/(identical_phasing+opposite_phasing+1)\n",
    "\n",
    "            if f > THRESH: \n",
    "                pairs.append([i,j,'identical']);  \n",
    "\n",
    "            elif 1.0-f > THRESH: \n",
    "                pairs.append([i,j,'opposite']); \n",
    "\n",
    "\n",
    "    pairs_sorted = sorted(pairs, key=lambda item: item[0])\n",
    "\n",
    "    return pairs_sorted\n",
    "\n",
    "\n",
    "\n",
    "\n",
    "\n",
    "def report_pairs(file_pair_address, pairs, var_pos_list):\n",
    "\n",
    "    file_pairs= open(file_pair_address, 'w');  # output\n",
    "\n",
    "    for pair in pairs:\n",
    "\n",
    "        line_out = str(var_pos_list[pair[0]])+'\\t'+str(var_pos_list[pair[1]])+'\\t'+pair[2]+'\\n'\n",
    "        file_pairs.write(line_out)\n",
    "\n",
    "    file_pairs.close()\n",
    "    return 1\n",
    "\n",
    "\n",
    "\n",
    "\n",
    "\n",
    "def sample_haplotype_graph(input_graph, num_samples):\n",
    "\n",
    "    subprocess.call(\"mkdir files_\"+str(chrom)+\"/samples\", shell=True)\t\n",
    "    for sample_i in range(num_samples):\n",
    "\n",
    "\n",
    "        seed = random.randint(1,10000000)\n",
    "        shapeit_sample_hap_graph= SHAPEIT+\" -convert --seed \"+str(seed)+\" --input-graph \"+str(input_graph)+\" --output-sample files_\"+str(chrom)+\"/samples/sample_\"+str(sample_i)+\" -L files_\"+str(chrom)+\"/samples/sample_\"+str(sample_i)+\">> files_\"+str(chrom)+\"/samples.log\"\n",
    "\n",
    "        subprocess.call(shapeit_sample_hap_graph, shell=True)\n",
    "\n",
    "\n",
    "    return 1\n",
    "\n",
    "\n",
    "def read_haplotype_samples(num_samples):\n",
    "    haplotype1_samples = []\n",
    "\n",
    "    for sample_i in range(num_samples):\n",
    "\n",
    "\n",
    "\n",
    "        haplotype_sample_address= \"files_\"+str(chrom)+\"/samples/sample_\"+str(sample_i)+\".haps\"\t\t\n",
    "\n",
    "        var_pos_list, haplotype1  = read_haplotype_sample(haplotype_sample_address)\n",
    "\n",
    "        haplotype1_samples.append(haplotype1)\n",
    "\n",
    "        if sample_i>0:\n",
    "            if var_pos_list_pre!=var_pos_list:\n",
    "                print(\"inconsistency in shapeit output, sample index\",sample_i)\n",
    "                exit(1)\n",
    "                \n",
    "                \n",
    "                #finde the indecis of intersetion\n",
    "                \n",
    "                #aply iy yo all previouse haplotpes in haplotype1_samples\n",
    "                \n",
    "                \n",
    "                \n",
    "\n",
    "        var_pos_list_pre=var_pos_list\n",
    "\n",
    "\n",
    "\n",
    "    return haplotype1_samples, var_pos_list\n",
    "\n",
    "\n",
    "\n",
    "\n",
    "\n",
    "\n",
    "\n",
    "\n",
    "\n"
   ]
  },
  {
   "cell_type": "code",
   "execution_count": 3,
   "metadata": {},
   "outputs": [
    {
     "ename": "AttributeError",
     "evalue": "'list' object has no attribute 'intersection'",
     "output_type": "error",
     "traceback": [
      "\u001b[0;31m---------------------------------------------------------------------------\u001b[0m",
      "\u001b[0;31mAttributeError\u001b[0m                            Traceback (most recent call last)",
      "\u001b[0;32m<ipython-input-3-10c3efe83bb8>\u001b[0m in \u001b[0;36m<module>\u001b[0;34m\u001b[0m\n\u001b[1;32m      2\u001b[0m \u001b[0ma2\u001b[0m\u001b[0;34m=\u001b[0m\u001b[0;34m[\u001b[0m\u001b[0;36m1\u001b[0m\u001b[0;34m,\u001b[0m\u001b[0;36m2\u001b[0m\u001b[0;34m]\u001b[0m\u001b[0;34m\u001b[0m\u001b[0;34m\u001b[0m\u001b[0m\n\u001b[1;32m      3\u001b[0m \u001b[0;34m\u001b[0m\u001b[0m\n\u001b[0;32m----> 4\u001b[0;31m \u001b[0ma1\u001b[0m\u001b[0;34m.\u001b[0m\u001b[0mintersection\u001b[0m\u001b[0;34m(\u001b[0m\u001b[0ma2\u001b[0m\u001b[0;34m)\u001b[0m\u001b[0;34m\u001b[0m\u001b[0;34m\u001b[0m\u001b[0m\n\u001b[0m",
      "\u001b[0;31mAttributeError\u001b[0m: 'list' object has no attribute 'intersection'"
     ]
    }
   ],
   "source": [
    "a1=[1,2,3]\n",
    "a2=[1,2]\n",
    "\n",
    "a1.intersection(a2)"
   ]
  },
  {
   "cell_type": "code",
   "execution_count": null,
   "metadata": {},
   "outputs": [],
   "source": []
  },
  {
   "cell_type": "code",
   "execution_count": null,
   "metadata": {},
   "outputs": [],
   "source": []
  },
  {
   "cell_type": "code",
   "execution_count": null,
   "metadata": {},
   "outputs": [],
   "source": []
  },
  {
   "cell_type": "code",
   "execution_count": null,
   "metadata": {},
   "outputs": [],
   "source": []
  },
  {
   "cell_type": "code",
   "execution_count": null,
   "metadata": {},
   "outputs": [],
   "source": []
  },
  {
   "cell_type": "code",
   "execution_count": null,
   "metadata": {},
   "outputs": [],
   "source": [
    "\n",
    "\n",
    "if __name__ == \"__main__\":\n",
    "\n",
    "\n",
    "    SHAPEIT=\"/home/ssm/Documents/phaseme/shapeit\"\n",
    "\n",
    "\n",
    "    NEIGHBOURS = 10\t\t\t   # number of neighbour variants to be checked \n",
    "    THRESH=0.90        \t\t  # the extent of  between samples \n",
    "    num_samples = 500\t\t\t# number that we sample the haplotype graph (output of shapeit)\n",
    "\n",
    "\n",
    "\n",
    "    # input_vcf = \"out.vcf\"  # argv[1]\n",
    "    # data_1000G_address = \"data/1000GP_Phase3/\" # argv[2]\n",
    "    #downlaod_1000g= \"wget https://mathgen.stats.ox.ac.uk/impute/1000GP_Phase3.tgz; wget https://mathgen.stats.ox.ac.uk/impute/1000GP_Phase3_chrX.tgz \"\n",
    "    #subprocess.call(downlaod_1000g, shell=True)\n",
    "    # run_shapeit_graph(input_vcf, data_1000G_address)\n",
    "\n",
    "    data_1000G_address = \"/home/ssm/Documents/phaseme/data1/1000g/\"\n",
    "\n",
    "\n",
    "\n",
    "    print(\"In case of error, please check the log files as well.\")\n",
    "\n",
    "\n",
    "    for chrom in [8]: # range(9,23)\n",
    "        print(\"Working on chr \",chrom)\n",
    "\n",
    "\n",
    "        input_vcf = \"ont/ont.vcf\" \n",
    "        chr_vcf = \"ont/\"+str(chrom)+\"/\"+str(chrom)+\".vcf\"\t\t\n",
    "\n",
    "\n",
    "\n",
    "\n",
    "\n",
    "\n",
    "        ## grep \"#\" input.vcf | sed 's/Type=Integer,Description=\"Phase set identifier\">/Type=String,Description=\"Phase set in which this variant falls\">/' > ont/22/22.vcf\n",
    "        ## grep \"^22\\b\" input.vcf | grep -v \"\\.:\\.:\\.:\\.\" >> ont/22/22.vcf\n",
    "\n",
    "        subprocess.call(\"mkdir ont/\"+str(chrom), shell=True)\n",
    "        subprocess.call(\"grep \\\"#\\\" \"+input_vcf+\" | sed \\'s/Type=Integer,Description=\\\"Phase set identifier\\\"/Type=String,Description=\\\"Phase set in which this variant falls\\\"/\\' >\"+chr_vcf, shell=True)\t\n",
    "\n",
    "        ##subprocess.call(\"grep \\\"#\\\" \"+input_vcf+\">\"+chr_vcf, shell=True)\t\n",
    "\n",
    "        subprocess.call(\"grep \\\"^\"+str(chrom)+\"\\\\b\\\" \"+input_vcf+\" | grep -v \\\"\\\\.:\\\\.:\\\\.:\\\\.\\\">>\"+chr_vcf, shell=True)\t\n",
    "\n",
    "\n",
    "\n",
    "        run_shapeit_graph(chr_vcf, data_1000G_address, chrom)\n",
    "        haplotype_graph = chr_vcf[:-4]+\".graph\" \n",
    "        print(\"haplotype graph is generated: \"+haplotype_graph)\n",
    "\n",
    "\n",
    "        sample_haplotype_graph(haplotype_graph, num_samples)\n",
    "\n",
    "\n",
    "\n",
    "        print(str(num_samples)+\" haplotype samples are generated from haplotype graph .\")\n",
    "\n",
    "        haplotype1_samples, var_pos_list = read_haplotype_samples(num_samples)\n",
    "        print(\"samples are read.\")\n",
    "\n",
    "\n",
    "        pairs = extract_pairs(haplotype1_samples)\n",
    "\n",
    "        file_pair_address = chr_vcf[:-4]+\"_pairs_\"+str(num_samples)+\"_\"+str(THRESH)+\".txt\"\n",
    "        report_pairs(file_pair_address, pairs, var_pos_list)\n",
    "        print(str(len(pairs))+\" pairs are reported in \"+file_pair_address)\n",
    "\n"
   ]
  },
  {
   "cell_type": "code",
   "execution_count": 4,
   "metadata": {},
   "outputs": [
    {
     "ename": "IndexError",
     "evalue": "list index out of range",
     "output_type": "error",
     "traceback": [
      "\u001b[0;31m---------------------------------------------------------------------------\u001b[0m",
      "\u001b[0;31mIndexError\u001b[0m                                Traceback (most recent call last)",
      "\u001b[0;32m<ipython-input-4-dcebfb9a82e4>\u001b[0m in \u001b[0;36m<module>\u001b[0;34m\u001b[0m\n\u001b[0;32m----> 1\u001b[0;31m \u001b[0mpairs\u001b[0m \u001b[0;34m=\u001b[0m \u001b[0mextract_pairs\u001b[0m\u001b[0;34m(\u001b[0m\u001b[0mhaplotype1_samples\u001b[0m\u001b[0;34m)\u001b[0m\u001b[0;34m\u001b[0m\u001b[0;34m\u001b[0m\u001b[0m\n\u001b[0m\u001b[1;32m      2\u001b[0m \u001b[0;34m\u001b[0m\u001b[0m\n\u001b[1;32m      3\u001b[0m \u001b[0mfile_pair_address\u001b[0m \u001b[0;34m=\u001b[0m \u001b[0mchr_vcf\u001b[0m\u001b[0;34m[\u001b[0m\u001b[0;34m:\u001b[0m\u001b[0;34m-\u001b[0m\u001b[0;36m4\u001b[0m\u001b[0;34m]\u001b[0m\u001b[0;34m+\u001b[0m\u001b[0;34m\"_pairs_\"\u001b[0m\u001b[0;34m+\u001b[0m\u001b[0mstr\u001b[0m\u001b[0;34m(\u001b[0m\u001b[0mnum_samples\u001b[0m\u001b[0;34m)\u001b[0m\u001b[0;34m+\u001b[0m\u001b[0;34m\"_\"\u001b[0m\u001b[0;34m+\u001b[0m\u001b[0mstr\u001b[0m\u001b[0;34m(\u001b[0m\u001b[0mTHRESH\u001b[0m\u001b[0;34m)\u001b[0m\u001b[0;34m+\u001b[0m\u001b[0;34m\".txt\"\u001b[0m\u001b[0;34m\u001b[0m\u001b[0;34m\u001b[0m\u001b[0m\n\u001b[1;32m      4\u001b[0m \u001b[0mreport_pairs\u001b[0m\u001b[0;34m(\u001b[0m\u001b[0mfile_pair_address\u001b[0m\u001b[0;34m,\u001b[0m \u001b[0mpairs\u001b[0m\u001b[0;34m,\u001b[0m \u001b[0mvar_pos_list\u001b[0m\u001b[0;34m)\u001b[0m\u001b[0;34m\u001b[0m\u001b[0;34m\u001b[0m\u001b[0m\n\u001b[1;32m      5\u001b[0m \u001b[0mprint\u001b[0m\u001b[0;34m(\u001b[0m\u001b[0mstr\u001b[0m\u001b[0;34m(\u001b[0m\u001b[0mlen\u001b[0m\u001b[0;34m(\u001b[0m\u001b[0mpairs\u001b[0m\u001b[0;34m)\u001b[0m\u001b[0;34m)\u001b[0m\u001b[0;34m+\u001b[0m\u001b[0;34m\" pairs are reported in \"\u001b[0m\u001b[0;34m+\u001b[0m\u001b[0mfile_pair_address\u001b[0m\u001b[0;34m)\u001b[0m\u001b[0;34m\u001b[0m\u001b[0;34m\u001b[0m\u001b[0m\n",
      "\u001b[0;32m<ipython-input-3-29756a2abe60>\u001b[0m in \u001b[0;36mextract_pairs\u001b[0;34m(haplotype1_samples)\u001b[0m\n\u001b[1;32m     83\u001b[0m        \u001b[0;32mfor\u001b[0m \u001b[0mj\u001b[0m \u001b[0;32min\u001b[0m \u001b[0mrange\u001b[0m\u001b[0;34m(\u001b[0m\u001b[0mi\u001b[0m\u001b[0;34m+\u001b[0m\u001b[0;36m1\u001b[0m\u001b[0;34m,\u001b[0m \u001b[0mmin\u001b[0m\u001b[0;34m(\u001b[0m\u001b[0mnum_variants\u001b[0m\u001b[0;34m,\u001b[0m \u001b[0mi\u001b[0m\u001b[0;34m+\u001b[0m\u001b[0mNEIGHBOURS\u001b[0m\u001b[0;34m)\u001b[0m\u001b[0;34m)\u001b[0m\u001b[0;34m:\u001b[0m\u001b[0;34m\u001b[0m\u001b[0;34m\u001b[0m\u001b[0m\n\u001b[1;32m     84\u001b[0m \u001b[0;34m\u001b[0m\u001b[0m\n\u001b[0;32m---> 85\u001b[0;31m            \u001b[0midentical_phasing\u001b[0m\u001b[0;34m,\u001b[0m \u001b[0mopposite_phasing\u001b[0m\u001b[0;34m=\u001b[0m \u001b[0mpairwise\u001b[0m\u001b[0;34m(\u001b[0m\u001b[0mhaplotype1_samples\u001b[0m\u001b[0;34m,\u001b[0m \u001b[0mnum_samples\u001b[0m\u001b[0;34m,\u001b[0m \u001b[0mi\u001b[0m\u001b[0;34m,\u001b[0m \u001b[0mj\u001b[0m\u001b[0;34m)\u001b[0m\u001b[0;34m\u001b[0m\u001b[0;34m\u001b[0m\u001b[0m\n\u001b[0m\u001b[1;32m     86\u001b[0m \u001b[0;34m\u001b[0m\u001b[0m\n\u001b[1;32m     87\u001b[0m            \u001b[0mf\u001b[0m \u001b[0;34m=\u001b[0m \u001b[0mfloat\u001b[0m\u001b[0;34m(\u001b[0m\u001b[0midentical_phasing\u001b[0m\u001b[0;34m+\u001b[0m\u001b[0;36m0.5\u001b[0m\u001b[0;34m)\u001b[0m\u001b[0;34m/\u001b[0m\u001b[0;34m(\u001b[0m\u001b[0midentical_phasing\u001b[0m\u001b[0;34m+\u001b[0m\u001b[0mopposite_phasing\u001b[0m\u001b[0;34m+\u001b[0m\u001b[0;36m1\u001b[0m\u001b[0;34m)\u001b[0m\u001b[0;34m\u001b[0m\u001b[0;34m\u001b[0m\u001b[0m\n",
      "\u001b[0;32m<ipython-input-3-29756a2abe60>\u001b[0m in \u001b[0;36mpairwise\u001b[0;34m(haplotype1_samples, nsamples, i, j)\u001b[0m\n\u001b[1;32m     63\u001b[0m \u001b[0;34m\u001b[0m\u001b[0m\n\u001b[1;32m     64\u001b[0m        \u001b[0;32mif\u001b[0m \u001b[0mhaplotype1_samples\u001b[0m\u001b[0;34m[\u001b[0m\u001b[0msample_i\u001b[0m\u001b[0;34m]\u001b[0m\u001b[0;34m[\u001b[0m\u001b[0mi\u001b[0m\u001b[0;34m]\u001b[0m \u001b[0;34m==\u001b[0m \u001b[0;34m'0'\u001b[0m \u001b[0;32mand\u001b[0m \u001b[0mhaplotype1_samples\u001b[0m\u001b[0;34m[\u001b[0m\u001b[0msample_i\u001b[0m\u001b[0;34m]\u001b[0m\u001b[0;34m[\u001b[0m\u001b[0mj\u001b[0m\u001b[0;34m]\u001b[0m \u001b[0;34m==\u001b[0m \u001b[0;34m'0'\u001b[0m\u001b[0;34m:\u001b[0m \u001b[0midentical_phasing\u001b[0m \u001b[0;34m+=\u001b[0m\u001b[0;36m1\u001b[0m\u001b[0;34m\u001b[0m\u001b[0;34m\u001b[0m\u001b[0m\n\u001b[0;32m---> 65\u001b[0;31m        \u001b[0;32melif\u001b[0m \u001b[0mhaplotype1_samples\u001b[0m\u001b[0;34m[\u001b[0m\u001b[0msample_i\u001b[0m\u001b[0;34m]\u001b[0m\u001b[0;34m[\u001b[0m\u001b[0mi\u001b[0m\u001b[0;34m]\u001b[0m \u001b[0;34m==\u001b[0m \u001b[0;34m'1'\u001b[0m \u001b[0;32mand\u001b[0m \u001b[0mhaplotype1_samples\u001b[0m\u001b[0;34m[\u001b[0m\u001b[0msample_i\u001b[0m\u001b[0;34m]\u001b[0m\u001b[0;34m[\u001b[0m\u001b[0mj\u001b[0m\u001b[0;34m]\u001b[0m \u001b[0;34m==\u001b[0m \u001b[0;34m'1'\u001b[0m\u001b[0;34m:\u001b[0m \u001b[0midentical_phasing\u001b[0m \u001b[0;34m+=\u001b[0m\u001b[0;36m1\u001b[0m\u001b[0;34m\u001b[0m\u001b[0;34m\u001b[0m\u001b[0m\n\u001b[0m\u001b[1;32m     66\u001b[0m \u001b[0;34m\u001b[0m\u001b[0m\n\u001b[1;32m     67\u001b[0m        \u001b[0;32melif\u001b[0m \u001b[0mhaplotype1_samples\u001b[0m\u001b[0;34m[\u001b[0m\u001b[0msample_i\u001b[0m\u001b[0;34m]\u001b[0m\u001b[0;34m[\u001b[0m\u001b[0mi\u001b[0m\u001b[0;34m]\u001b[0m \u001b[0;34m==\u001b[0m \u001b[0;34m'0'\u001b[0m \u001b[0;32mand\u001b[0m \u001b[0mhaplotype1_samples\u001b[0m\u001b[0;34m[\u001b[0m\u001b[0msample_i\u001b[0m\u001b[0;34m]\u001b[0m\u001b[0;34m[\u001b[0m\u001b[0mj\u001b[0m\u001b[0;34m]\u001b[0m \u001b[0;34m==\u001b[0m \u001b[0;34m'1'\u001b[0m\u001b[0;34m:\u001b[0m \u001b[0mopposite_phasing\u001b[0m \u001b[0;34m+=\u001b[0m\u001b[0;36m1\u001b[0m\u001b[0;34m\u001b[0m\u001b[0;34m\u001b[0m\u001b[0m\n",
      "\u001b[0;31mIndexError\u001b[0m: list index out of range"
     ]
    }
   ],
   "source": [
    "\n",
    "        pairs = extract_pairs(haplotype1_samples)\n",
    "\n",
    "#         file_pair_address = chr_vcf[:-4]+\"_pairs_\"+str(num_samples)+\"_\"+str(THRESH)+\".txt\"\n",
    "#         report_pairs(file_pair_address, pairs, var_pos_list)\n",
    "#         print(str(len(pairs))+\" pairs are reported in \"+file_pair_address)\n",
    "\n",
    "\n",
    "\n"
   ]
  },
  {
   "cell_type": "code",
   "execution_count": 19,
   "metadata": {},
   "outputs": [
    {
     "name": "stdout",
     "output_type": "stream",
     "text": [
      "121723 121732 121733\n",
      "[121724, 121725, 121726, 121727, 121728, 121729, 121730, 121731, 121732]\n"
     ]
    },
    {
     "data": {
      "text/plain": [
       "121733"
      ]
     },
     "execution_count": 19,
     "metadata": {},
     "output_type": "execute_result"
    }
   ],
   "source": [
    "print(i,j,num_variants)\n",
    "print(list(range(i+1, min(num_variants, i+NEIGHBOURS))))\n",
    "\n",
    "len(haplotype1_samples[1])"
   ]
  },
  {
   "cell_type": "code",
   "execution_count": 5,
   "metadata": {},
   "outputs": [
    {
     "ename": "IndexError",
     "evalue": "list index out of range",
     "output_type": "error",
     "traceback": [
      "\u001b[0;31m---------------------------------------------------------------------------\u001b[0m",
      "\u001b[0;31mIndexError\u001b[0m                                Traceback (most recent call last)",
      "\u001b[0;32m<ipython-input-5-c1428457d7ef>\u001b[0m in \u001b[0;36m<module>\u001b[0;34m\u001b[0m\n\u001b[1;32m      8\u001b[0m     \u001b[0;32mfor\u001b[0m \u001b[0mj\u001b[0m \u001b[0;32min\u001b[0m \u001b[0mrange\u001b[0m\u001b[0;34m(\u001b[0m\u001b[0mi\u001b[0m\u001b[0;34m+\u001b[0m\u001b[0;36m1\u001b[0m\u001b[0;34m,\u001b[0m \u001b[0mmin\u001b[0m\u001b[0;34m(\u001b[0m\u001b[0mnum_variants\u001b[0m\u001b[0;34m,\u001b[0m \u001b[0mi\u001b[0m\u001b[0;34m+\u001b[0m\u001b[0mNEIGHBOURS\u001b[0m\u001b[0;34m)\u001b[0m\u001b[0;34m)\u001b[0m\u001b[0;34m:\u001b[0m\u001b[0;34m\u001b[0m\u001b[0;34m\u001b[0m\u001b[0m\n\u001b[1;32m      9\u001b[0m \u001b[0;34m\u001b[0m\u001b[0m\n\u001b[0;32m---> 10\u001b[0;31m         \u001b[0midentical_phasing\u001b[0m\u001b[0;34m,\u001b[0m \u001b[0mopposite_phasing\u001b[0m\u001b[0;34m=\u001b[0m \u001b[0mpairwise\u001b[0m\u001b[0;34m(\u001b[0m\u001b[0mhaplotype1_samples\u001b[0m\u001b[0;34m,\u001b[0m \u001b[0mnum_samples\u001b[0m\u001b[0;34m,\u001b[0m \u001b[0mi\u001b[0m\u001b[0;34m,\u001b[0m \u001b[0mj\u001b[0m\u001b[0;34m)\u001b[0m\u001b[0;34m\u001b[0m\u001b[0;34m\u001b[0m\u001b[0m\n\u001b[0m\u001b[1;32m     11\u001b[0m \u001b[0;34m\u001b[0m\u001b[0m\n\u001b[1;32m     12\u001b[0m         \u001b[0mf\u001b[0m \u001b[0;34m=\u001b[0m \u001b[0mfloat\u001b[0m\u001b[0;34m(\u001b[0m\u001b[0midentical_phasing\u001b[0m\u001b[0;34m+\u001b[0m\u001b[0;36m0.5\u001b[0m\u001b[0;34m)\u001b[0m\u001b[0;34m/\u001b[0m\u001b[0;34m(\u001b[0m\u001b[0midentical_phasing\u001b[0m\u001b[0;34m+\u001b[0m\u001b[0mopposite_phasing\u001b[0m\u001b[0;34m+\u001b[0m\u001b[0;36m1\u001b[0m\u001b[0;34m)\u001b[0m\u001b[0;34m\u001b[0m\u001b[0;34m\u001b[0m\u001b[0m\n",
      "\u001b[0;32m<ipython-input-3-29756a2abe60>\u001b[0m in \u001b[0;36mpairwise\u001b[0;34m(haplotype1_samples, nsamples, i, j)\u001b[0m\n\u001b[1;32m     63\u001b[0m \u001b[0;34m\u001b[0m\u001b[0m\n\u001b[1;32m     64\u001b[0m        \u001b[0;32mif\u001b[0m \u001b[0mhaplotype1_samples\u001b[0m\u001b[0;34m[\u001b[0m\u001b[0msample_i\u001b[0m\u001b[0;34m]\u001b[0m\u001b[0;34m[\u001b[0m\u001b[0mi\u001b[0m\u001b[0;34m]\u001b[0m \u001b[0;34m==\u001b[0m \u001b[0;34m'0'\u001b[0m \u001b[0;32mand\u001b[0m \u001b[0mhaplotype1_samples\u001b[0m\u001b[0;34m[\u001b[0m\u001b[0msample_i\u001b[0m\u001b[0;34m]\u001b[0m\u001b[0;34m[\u001b[0m\u001b[0mj\u001b[0m\u001b[0;34m]\u001b[0m \u001b[0;34m==\u001b[0m \u001b[0;34m'0'\u001b[0m\u001b[0;34m:\u001b[0m \u001b[0midentical_phasing\u001b[0m \u001b[0;34m+=\u001b[0m\u001b[0;36m1\u001b[0m\u001b[0;34m\u001b[0m\u001b[0;34m\u001b[0m\u001b[0m\n\u001b[0;32m---> 65\u001b[0;31m        \u001b[0;32melif\u001b[0m \u001b[0mhaplotype1_samples\u001b[0m\u001b[0;34m[\u001b[0m\u001b[0msample_i\u001b[0m\u001b[0;34m]\u001b[0m\u001b[0;34m[\u001b[0m\u001b[0mi\u001b[0m\u001b[0;34m]\u001b[0m \u001b[0;34m==\u001b[0m \u001b[0;34m'1'\u001b[0m \u001b[0;32mand\u001b[0m \u001b[0mhaplotype1_samples\u001b[0m\u001b[0;34m[\u001b[0m\u001b[0msample_i\u001b[0m\u001b[0;34m]\u001b[0m\u001b[0;34m[\u001b[0m\u001b[0mj\u001b[0m\u001b[0;34m]\u001b[0m \u001b[0;34m==\u001b[0m \u001b[0;34m'1'\u001b[0m\u001b[0;34m:\u001b[0m \u001b[0midentical_phasing\u001b[0m \u001b[0;34m+=\u001b[0m\u001b[0;36m1\u001b[0m\u001b[0;34m\u001b[0m\u001b[0;34m\u001b[0m\u001b[0m\n\u001b[0m\u001b[1;32m     66\u001b[0m \u001b[0;34m\u001b[0m\u001b[0m\n\u001b[1;32m     67\u001b[0m        \u001b[0;32melif\u001b[0m \u001b[0mhaplotype1_samples\u001b[0m\u001b[0;34m[\u001b[0m\u001b[0msample_i\u001b[0m\u001b[0;34m]\u001b[0m\u001b[0;34m[\u001b[0m\u001b[0mi\u001b[0m\u001b[0;34m]\u001b[0m \u001b[0;34m==\u001b[0m \u001b[0;34m'0'\u001b[0m \u001b[0;32mand\u001b[0m \u001b[0mhaplotype1_samples\u001b[0m\u001b[0;34m[\u001b[0m\u001b[0msample_i\u001b[0m\u001b[0;34m]\u001b[0m\u001b[0;34m[\u001b[0m\u001b[0mj\u001b[0m\u001b[0;34m]\u001b[0m \u001b[0;34m==\u001b[0m \u001b[0;34m'1'\u001b[0m\u001b[0;34m:\u001b[0m \u001b[0mopposite_phasing\u001b[0m \u001b[0;34m+=\u001b[0m\u001b[0;36m1\u001b[0m\u001b[0;34m\u001b[0m\u001b[0;34m\u001b[0m\u001b[0m\n",
      "\u001b[0;31mIndexError\u001b[0m: list index out of range"
     ]
    }
   ],
   "source": [
    "\n",
    "    num_samples =  len(haplotype1_samples)\n",
    "    num_variants = len(haplotype1_samples[0])\n",
    "\n",
    "    pairs =[];\n",
    "\n",
    "    for i in range(num_variants):\n",
    "\n",
    "        for j in range(i+1, min(num_variants, i+NEIGHBOURS)):\n",
    "\n",
    "            identical_phasing, opposite_phasing= pairwise(haplotype1_samples, num_samples, i, j)\n",
    "\n",
    "            f = float(identical_phasing+0.5)/(identical_phasing+opposite_phasing+1)\n",
    "\n",
    "            if f > THRESH: \n",
    "                pairs.append([i,j,'identical']);  \n",
    "\n",
    "            elif 1.0-f > THRESH: \n",
    "                pairs.append([i,j,'opposite']); \n",
    "\n",
    "\n",
    "    pairs_sorted = sorted(pairs, key=lambda item: item[0])\n",
    "\n"
   ]
  },
  {
   "cell_type": "code",
   "execution_count": 21,
   "metadata": {},
   "outputs": [
    {
     "ename": "IndexError",
     "evalue": "list index out of range",
     "output_type": "error",
     "traceback": [
      "\u001b[0;31m---------------------------------------------------------------------------\u001b[0m",
      "\u001b[0;31mIndexError\u001b[0m                                Traceback (most recent call last)",
      "\u001b[0;32m<ipython-input-21-8b330f525569>\u001b[0m in \u001b[0;36m<module>\u001b[0;34m\u001b[0m\n\u001b[1;32m      6\u001b[0m \u001b[0;34m\u001b[0m\u001b[0m\n\u001b[1;32m      7\u001b[0m     \u001b[0;32mif\u001b[0m \u001b[0mhaplotype1_samples\u001b[0m\u001b[0;34m[\u001b[0m\u001b[0msample_i\u001b[0m\u001b[0;34m]\u001b[0m\u001b[0;34m[\u001b[0m\u001b[0mi\u001b[0m\u001b[0;34m]\u001b[0m \u001b[0;34m==\u001b[0m \u001b[0;34m'0'\u001b[0m \u001b[0;32mand\u001b[0m \u001b[0mhaplotype1_samples\u001b[0m\u001b[0;34m[\u001b[0m\u001b[0msample_i\u001b[0m\u001b[0;34m]\u001b[0m\u001b[0;34m[\u001b[0m\u001b[0mj\u001b[0m\u001b[0;34m]\u001b[0m \u001b[0;34m==\u001b[0m \u001b[0;34m'0'\u001b[0m\u001b[0;34m:\u001b[0m \u001b[0midentical_phasing\u001b[0m \u001b[0;34m+=\u001b[0m\u001b[0;36m1\u001b[0m\u001b[0;34m\u001b[0m\u001b[0;34m\u001b[0m\u001b[0m\n\u001b[0;32m----> 8\u001b[0;31m     \u001b[0;32melif\u001b[0m \u001b[0mhaplotype1_samples\u001b[0m\u001b[0;34m[\u001b[0m\u001b[0msample_i\u001b[0m\u001b[0;34m]\u001b[0m\u001b[0;34m[\u001b[0m\u001b[0mi\u001b[0m\u001b[0;34m]\u001b[0m \u001b[0;34m==\u001b[0m \u001b[0;34m'1'\u001b[0m \u001b[0;32mand\u001b[0m \u001b[0mhaplotype1_samples\u001b[0m\u001b[0;34m[\u001b[0m\u001b[0msample_i\u001b[0m\u001b[0;34m]\u001b[0m\u001b[0;34m[\u001b[0m\u001b[0mj\u001b[0m\u001b[0;34m]\u001b[0m \u001b[0;34m==\u001b[0m \u001b[0;34m'1'\u001b[0m\u001b[0;34m:\u001b[0m \u001b[0midentical_phasing\u001b[0m \u001b[0;34m+=\u001b[0m\u001b[0;36m1\u001b[0m\u001b[0;34m\u001b[0m\u001b[0;34m\u001b[0m\u001b[0m\n\u001b[0m\u001b[1;32m      9\u001b[0m \u001b[0;34m\u001b[0m\u001b[0m\n\u001b[1;32m     10\u001b[0m     \u001b[0;32melif\u001b[0m \u001b[0mhaplotype1_samples\u001b[0m\u001b[0;34m[\u001b[0m\u001b[0msample_i\u001b[0m\u001b[0;34m]\u001b[0m\u001b[0;34m[\u001b[0m\u001b[0mi\u001b[0m\u001b[0;34m]\u001b[0m \u001b[0;34m==\u001b[0m \u001b[0;34m'0'\u001b[0m \u001b[0;32mand\u001b[0m \u001b[0mhaplotype1_samples\u001b[0m\u001b[0;34m[\u001b[0m\u001b[0msample_i\u001b[0m\u001b[0;34m]\u001b[0m\u001b[0;34m[\u001b[0m\u001b[0mj\u001b[0m\u001b[0;34m]\u001b[0m \u001b[0;34m==\u001b[0m \u001b[0;34m'1'\u001b[0m\u001b[0;34m:\u001b[0m \u001b[0mopposite_phasing\u001b[0m \u001b[0;34m+=\u001b[0m\u001b[0;36m1\u001b[0m\u001b[0;34m\u001b[0m\u001b[0;34m\u001b[0m\u001b[0m\n",
      "\u001b[0;31mIndexError\u001b[0m: list index out of range"
     ]
    }
   ],
   "source": [
    "    nsamples=num_samples\n",
    "    identical_phasing = 0\n",
    "    opposite_phasing = 0\n",
    "\n",
    "    for sample_i in range(nsamples):\n",
    "\n",
    "        if haplotype1_samples[sample_i][i] == '0' and haplotype1_samples[sample_i][j] == '0': identical_phasing +=1\n",
    "        elif haplotype1_samples[sample_i][i] == '1' and haplotype1_samples[sample_i][j] == '1': identical_phasing +=1\n",
    "\n",
    "        elif haplotype1_samples[sample_i][i] == '0' and haplotype1_samples[sample_i][j] == '1': opposite_phasing +=1 \n",
    "        elif haplotype1_samples[sample_i][i] == '1' and haplotype1_samples[sample_i][j] == '0': opposite_phasing +=1 \n",
    "\n"
   ]
  },
  {
   "cell_type": "code",
   "execution_count": 28,
   "metadata": {},
   "outputs": [
    {
     "name": "stdout",
     "output_type": "stream",
     "text": [
      "243\n"
     ]
    }
   ],
   "source": [
    "for i in range(500):\n",
    "    if len(haplotype1_samples[i]) != 121733:\n",
    "        print(i)"
   ]
  },
  {
   "cell_type": "code",
   "execution_count": 32,
   "metadata": {},
   "outputs": [],
   "source": [
    "        sample_i=243\n",
    "        #haplotype1_samples = []\n",
    "\n",
    "#    for sample_i in range(num_samples):\n",
    "\n",
    "\n",
    "        haplotype_sample_address= \"files_\"+str(chrom)+\"/samples/sample_\"+str(sample_i)+\".haps\"\t\t\n",
    "\n",
    "        var_pos_list, haplotype1  = read_haplotype_sample(haplotype_sample_address)\n",
    "\n",
    "        haplotype1_samples.append(haplotype1)\n"
   ]
  },
  {
   "cell_type": "code",
   "execution_count": 29,
   "metadata": {},
   "outputs": [],
   "source": [
    "# haplotype1_samples2"
   ]
  },
  {
   "cell_type": "code",
   "execution_count": 33,
   "metadata": {},
   "outputs": [
    {
     "data": {
      "text/plain": [
       "121732"
      ]
     },
     "execution_count": 33,
     "metadata": {},
     "output_type": "execute_result"
    }
   ],
   "source": [
    "len(haplotype1_samples[1])"
   ]
  },
  {
   "cell_type": "code",
   "execution_count": 47,
   "metadata": {},
   "outputs": [
    {
     "name": "stdout",
     "output_type": "stream",
     "text": [
      "121732\n"
     ]
    }
   ],
   "source": [
    "    haplotype_sample_address = \"files_\"+str(chrom)+\"/samples/sample_\"+str(243)+\".haps\"\n",
    "    sample_file = open(haplotype_sample_address,'r')\n",
    "\n",
    "    var_pos_list = []\t\t\t\t # genomic position of variants\n",
    "    haplotype1 = []\t\t\t\t # hetrozygous variant only\n",
    "\n",
    "    for line in sample_file: \n",
    "\n",
    "        line_splitted = line.strip().split(); \n",
    "\n",
    "        chrom = line_splitted[0]\n",
    "        var_pos = line_splitted[2]\n",
    "\n",
    "        allele1 = line_splitted[5]\n",
    "        allele2 = line_splitted[6]\n",
    "\n",
    "        if allele1 != allele2:\n",
    "            haplotype1.append(allele1)\n",
    "            var_pos_list.append(var_pos)\n",
    "    print(len(haplotype1))\n"
   ]
  },
  {
   "cell_type": "code",
   "execution_count": 46,
   "metadata": {},
   "outputs": [],
   "source": [
    "var_pos_list_242=var_pos_list"
   ]
  },
  {
   "cell_type": "code",
   "execution_count": 48,
   "metadata": {},
   "outputs": [],
   "source": [
    "var_pos_list_243=var_pos_list"
   ]
  },
  {
   "cell_type": "code",
   "execution_count": 49,
   "metadata": {},
   "outputs": [],
   "source": [
    "a=set(var_pos_list_243).intersection(var_pos_list_242)"
   ]
  },
  {
   "cell_type": "code",
   "execution_count": 62,
   "metadata": {},
   "outputs": [],
   "source": [
    "b=set(var_pos_list_242)-set(var_pos_list_243)"
   ]
  },
  {
   "cell_type": "code",
   "execution_count": 63,
   "metadata": {},
   "outputs": [
    {
     "data": {
      "text/plain": [
       "{'126556185'}"
      ]
     },
     "execution_count": 63,
     "metadata": {},
     "output_type": "execute_result"
    }
   ],
   "source": [
    "b"
   ]
  },
  {
   "cell_type": "code",
   "execution_count": 67,
   "metadata": {},
   "outputs": [],
   "source": [
    "a=[1,2,3]\n",
    "b=[1,2,4]"
   ]
  },
  {
   "cell_type": "code",
   "execution_count": 68,
   "metadata": {},
   "outputs": [
    {
     "data": {
      "text/plain": [
       "False"
      ]
     },
     "execution_count": 68,
     "metadata": {},
     "output_type": "execute_result"
    }
   ],
   "source": [
    "a==b"
   ]
  },
  {
   "cell_type": "code",
   "execution_count": 87,
   "metadata": {},
   "outputs": [
    {
     "data": {
      "text/plain": [
       "'\"s/Type=Integer,Description=\"Phase set identifier\">/Type=String,Description=\"Phase set in which this variant falls\">\"'"
      ]
     },
     "execution_count": 87,
     "metadata": {},
     "output_type": "execute_result"
    }
   ],
   "source": []
  },
  {
   "cell_type": "code",
   "execution_count": 88,
   "metadata": {},
   "outputs": [],
   "source": [
    "a=\"sed \\\"s/Type=Integer,Description=\\\"Phase set identifier\\\">/Type=String,Description=\\\"Phase set in which this variant falls\\\">\\\" >\""
   ]
  },
  {
   "cell_type": "code",
   "execution_count": 89,
   "metadata": {},
   "outputs": [
    {
     "data": {
      "text/plain": [
       "'sed \"s/Type=Integer,Description=\"Phase set identifier\">/Type=String,Description=\"Phase set in which this variant falls\">\" >'"
      ]
     },
     "execution_count": 89,
     "metadata": {},
     "output_type": "execute_result"
    }
   ],
   "source": [
    "a"
   ]
  },
  {
   "cell_type": "code",
   "execution_count": null,
   "metadata": {},
   "outputs": [],
   "source": []
  }
 ],
 "metadata": {
  "kernelspec": {
   "display_name": "Python 3",
   "language": "python",
   "name": "python3"
  },
  "language_info": {
   "codemirror_mode": {
    "name": "ipython",
    "version": 3
   },
   "file_extension": ".py",
   "mimetype": "text/x-python",
   "name": "python",
   "nbconvert_exporter": "python",
   "pygments_lexer": "ipython3",
   "version": "3.7.4"
  }
 },
 "nbformat": 4,
 "nbformat_minor": 2
}
