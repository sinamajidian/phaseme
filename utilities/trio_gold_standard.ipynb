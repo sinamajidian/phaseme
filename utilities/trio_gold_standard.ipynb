{
 "cells": [
  {
   "cell_type": "code",
   "execution_count": 16,
   "metadata": {},
   "outputs": [
    {
     "name": "stdout",
     "output_type": "stream",
     "text": [
      "21362\n"
     ]
    }
   ],
   "source": [
    "vcf_file_address = \"/Volumes/uni/BCM/data_bcm/grand_truth/new_trio/merged_hg210x_hg34/22_trio.vcf\"\n",
    "\n",
    "\n",
    "\n",
    "vcf_file = open(vcf_file_address,'r')\n",
    "\n",
    "lines_new =[]\n",
    "header_lines_list = []\n",
    "\n",
    "num=0\n",
    "for line in vcf_file:\n",
    "    line_strip = line.strip() \n",
    "    \n",
    "    if line_strip.startswith('#'):\n",
    "        pass \n",
    "        header_lines_list.append(line_strip)\n",
    "\n",
    "    else:\n",
    "\n",
    "        line_parts = line_strip.split('\\t') \n",
    "        # chrom = line_parts[0]\n",
    "        var_pos = int(line_parts[1])                               # genomic position of variants\n",
    "        ref_allele = line_parts[3]\n",
    "        alt_allele = line_parts[4]\n",
    "        \n",
    "            \n",
    "        format_genotype, values_genotype = line_parts[8:10]        # 'GT:GQ:DP:AF:GL:PS', '0|1:255:.:.:.,0,.:60780'\n",
    "\n",
    "        values_genotype_splitted = values_genotype.split(':')\n",
    "        format_genotype_splitted = format_genotype.split(':')\n",
    "\n",
    "        gt_index = format_genotype_splitted.index(\"GT\")            #  index of allele in  values_genotype \n",
    "        allele = values_genotype_splitted[gt_index]\n",
    "\n",
    "        values_genotype_hg3 = line_parts[10]\n",
    "        values_genotype_hg3_splitted = values_genotype_hg3.split(':')\n",
    "        allele_hg3 = values_genotype_hg3_splitted[gt_index]\n",
    "\n",
    "        values_genotype_hg4 = line_parts[11]\n",
    "        values_genotype_hg4_splitted = values_genotype_hg4.split(':')\n",
    "        allele_hg4 = values_genotype_hg4_splitted[gt_index]\n",
    "\n",
    "        \n",
    "        phase_son = '.|.'\n",
    "        #if '.' not in allele and len(ref_allele)==1 and len(alt_allele)==1 : #(allele == '0|1' or allele == '1|0'):\n",
    "        if (allele == '0|1' or allele == '1|0' or allele == '1/0' or allele == '0/1') and len(ref_allele)==1 and len(alt_allele)==1:\n",
    "\n",
    "            \n",
    "            #ps_index = format_genotype_splitted.index(\"PS\")           #  index of phase set in values_genotype \n",
    "\n",
    "\n",
    "            if  allele_hg3 != './.' and (not allele_hg3 == '0/0') and (not allele_hg3 == '0|0') and allele_hg4 == './.' : \n",
    "                phase_son = '0|1'\n",
    "\n",
    "            if  allele_hg4 != './.' and (not allele_hg4 == '0/0') and (not allele_hg4 == '0|0') and allele_hg3 == './.' :\n",
    "                phase_son = '1|0'\n",
    "            \n",
    "\n",
    "        if phase_son == '0|1' or phase_son == '1|0':\n",
    "            values_genotype_splitted[gt_index] = phase_son\n",
    "            num +=1\n",
    "\n",
    "            line_parts[2] = '.'\n",
    "            line_parts[5] = '.'\n",
    "            line_parts[6] = '.'\n",
    "            line_parts[7] = '.'\n",
    "            line_parts[8] = \"GT:PS\"#values_genotype\n",
    "            line_parts[9] =  phase_son+\":ps\" # values_genotype\n",
    "\n",
    "            line_new = '\\t'.join(line_parts[:10]) \n",
    "            lines_new.append(line_new)\n",
    "\n",
    "vcf_file.close()\n",
    "\n",
    "print(num)"
   ]
  },
  {
   "cell_type": "code",
   "execution_count": null,
   "metadata": {},
   "outputs": [],
   "source": []
  },
  {
   "cell_type": "code",
   "execution_count": 14,
   "metadata": {},
   "outputs": [],
   "source": [
    "vcf_file_write = open(vcf_file_address[:-4]+\"_hg2_true.vcf\",'w')\n",
    "\n",
    "header_lines_list[-1]= header_lines_list[-1][:51]\n",
    "for header_line in header_lines_list:\n",
    "    vcf_file_write.write(header_line+'\\n')\n",
    "    \n",
    "for line_new in lines_new:\n",
    "    vcf_file_write.write(line_new+'\\n')\n",
    "\n",
    "vcf_file_write.close()"
   ]
  },
  {
   "cell_type": "code",
   "execution_count": null,
   "metadata": {},
   "outputs": [],
   "source": []
  },
  {
   "cell_type": "code",
   "execution_count": null,
   "metadata": {},
   "outputs": [],
   "source": [
    "\n"
   ]
  }
 ],
 "metadata": {
  "kernelspec": {
   "display_name": "Python 3",
   "language": "python",
   "name": "python3"
  },
  "language_info": {
   "codemirror_mode": {
    "name": "ipython",
    "version": 3
   },
   "file_extension": ".py",
   "mimetype": "text/x-python",
   "name": "python",
   "nbconvert_exporter": "python",
   "pygments_lexer": "ipython3",
   "version": "3.7.4"
  }
 },
 "nbformat": 4,
 "nbformat_minor": 2
}
